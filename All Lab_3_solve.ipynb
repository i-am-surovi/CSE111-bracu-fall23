{
  "nbformat": 4,
  "nbformat_minor": 0,
  "metadata": {
    "colab": {
      "provenance": []
    },
    "kernelspec": {
      "name": "python3",
      "display_name": "Python 3"
    },
    "language_info": {
      "name": "python"
    }
  },
  "cells": [
    {
      "cell_type": "markdown",
      "source": [
        "#**Task 1 (i)**"
      ],
      "metadata": {
        "id": "YMLr1iFLxeK2"
      }
    },
    {
      "cell_type": "code",
      "execution_count": 1,
      "metadata": {
        "colab": {
          "base_uri": "https://localhost:8080/"
        },
        "id": "Kf7bdf-CWDeI",
        "outputId": "82e0ed5c-bcef-4861-abdb-ab96b2283b87"
      },
      "outputs": [
        {
          "output_type": "stream",
          "name": "stdout",
          "text": [
            "=====================================\n",
            "Mango Tree Details:\n",
            "Variety: Gopalbhog\n",
            "Height: 1 meter(s)\n",
            "Number of mangoes on the tree: 0\n",
            "=====================================\n",
            "Mango Tree Details:\n",
            "Variety: Amrapali\n",
            "Height: 1 meter(s)\n",
            "Number of mangoes on the tree: 0\n",
            "=====================================\n"
          ]
        }
      ],
      "source": [
        "# Task 1  (i)\n",
        "class MangoTree:\n",
        "  height = 1\n",
        "  number_of_mangoes = 0\n",
        "\n",
        "  def __init__(self, variety):\n",
        "    self.variety = variety\n",
        "\n",
        "\n",
        "# Driver Code\n",
        "mangoTree1= MangoTree(\"Gopalbhog\")\n",
        "# Display the details of the mango tree\n",
        "print(\"=====================================\")\n",
        "print(\"Mango Tree Details:\")\n",
        "print(f\"Variety: {mangoTree1.variety}\")\n",
        "print(f\"Height: {mangoTree1.height} meter(s)\")\n",
        "print(f\"Number of mangoes on the tree: {mangoTree1.number_of_mangoes}\")\n",
        "print(\"=====================================\")\n",
        "mangoTree2= MangoTree(\"Amrapali\")\n",
        "# Display the details of the mango tree\n",
        "print(\"Mango Tree Details:\")\n",
        "print(f\"Variety: {mangoTree2.variety}\")\n",
        "print(f\"Height: {mangoTree2.height} meter(s)\")\n",
        "print(f\"Number of mangoes on the tree: {mangoTree2.number_of_mangoes}\")\n",
        "print(\"=====================================\")"
      ]
    },
    {
      "cell_type": "markdown",
      "source": [
        "#**Task 1 (ii)**"
      ],
      "metadata": {
        "id": "WaHJCNw3xkgh"
      }
    },
    {
      "cell_type": "code",
      "source": [
        "# Task 1  (ii)\n",
        "class MangoTree:\n",
        "  height = 1\n",
        "  number_of_mangoes = 0\n",
        "\n",
        "  def __init__(self, variety):\n",
        "    self.variety = variety\n",
        "\n",
        "  def growthUpdate(self, year):\n",
        "    print(f\"Variety: {self.variety}\")\n",
        "    MangoTree.height += 3*year\n",
        "    print(f\"Height: {self.height} meter(s)\")\n",
        "    if self.variety == \"Gopalbhog\":\n",
        "      MangoTree.number_of_mangoes = 10*MangoTree.height\n",
        "      print(f\"Number of mangoes on the tree: {self.number_of_mangoes}\")\n",
        "    elif self.variety == \"Amrapali\":\n",
        "      MangoTree.number_of_mangoes = 15*MangoTree.height\n",
        "      print(f\"Number of mangoes on the tree: {self.number_of_mangoes}\")\n",
        "\n",
        "\n",
        "# Driver Code\n",
        "print(\"Updated details after 5 years:\")\n",
        "mangoTree1= MangoTree(\"Gopalbhog\")\n",
        "print(\"=====================================\")\n",
        "mangoTree1.growthUpdate(5)\n",
        "print(\"=====================================\")\n",
        "mangoTree2= MangoTree(\"Amrapali\")\n",
        "mangoTree2.growthUpdate(5)\n",
        "print(\"=====================================\")"
      ],
      "metadata": {
        "colab": {
          "base_uri": "https://localhost:8080/"
        },
        "id": "MZjK-SgvYEvu",
        "outputId": "10f0b778-3a46-463f-e64c-8636d23274c4"
      },
      "execution_count": 4,
      "outputs": [
        {
          "output_type": "stream",
          "name": "stdout",
          "text": [
            "Updated details after 5 years:\n",
            "=====================================\n",
            "Variety: Gopalbhog\n",
            "Height: 16 meter(s)\n",
            "Number of mangoes on the tree: 160\n",
            "=====================================\n",
            "Variety: Amrapali\n",
            "Height: 31 meter(s)\n",
            "Number of mangoes on the tree: 465\n",
            "=====================================\n"
          ]
        }
      ]
    },
    {
      "cell_type": "markdown",
      "source": [
        "#**Task 2**"
      ],
      "metadata": {
        "id": "F7MpraoyxnAA"
      }
    },
    {
      "cell_type": "code",
      "source": [
        "# Task 2\n",
        "class Customer:\n",
        "  count = 0\n",
        "  price = 0\n",
        "\n",
        "  def __init__(self):\n",
        "    print(\"Welcome to ABC Memorial Park\")\n",
        "\n",
        "  def buyTicket(self, name, age):\n",
        "    if Customer.count < 3:\n",
        "      if age > 10:\n",
        "        Customer.price += 100\n",
        "      else:\n",
        "        Customer.price += 50\n",
        "      print(f\"Successfully purchased a ticket for {name}!\")\n",
        "      Customer.count += 1\n",
        "    else:\n",
        "      print(\"You can't buy more than 3 tickets\")\n",
        "\n",
        "  def showDetails(self):\n",
        "    print(f\"Amount of tickets: {Customer.count}\")\n",
        "    print(f\"Total price: {Customer.price} Taka\")\n",
        "    Customer.count = 0\n",
        "    Customer.price = 0\n",
        "\n",
        "\n",
        "# Driver Code\n",
        "print('1-------------------------')\n",
        "customer1 = Customer()\n",
        "print('2-------------------------')\n",
        "customer1.buyTicket('Bob', 23)\n",
        "customer1.buyTicket('Henry', 7)\n",
        "customer1.buyTicket('Alexa', 30)\n",
        "customer1.buyTicket('Jonas', 43)\n",
        "print('3-------------------------')\n",
        "customer1.showDetails()\n",
        "print('4-------------------------')\n",
        "customer2 = Customer()\n",
        "print('5-------------------------')\n",
        "customer2.buyTicket('Harry', 60)\n",
        "customer2.buyTicket('Tomas', 28)\n",
        "print('6-------------------------')\n",
        "customer2.showDetails()\n"
      ],
      "metadata": {
        "colab": {
          "base_uri": "https://localhost:8080/"
        },
        "id": "Rz3URCJya3yA",
        "outputId": "de27dc59-91c7-4bd9-dbde-dcbbff9f4539"
      },
      "execution_count": 8,
      "outputs": [
        {
          "output_type": "stream",
          "name": "stdout",
          "text": [
            "1-------------------------\n",
            "Welcome to ABC Memorial Park\n",
            "2-------------------------\n",
            "Successfully purchased a ticket for Bob!\n",
            "Successfully purchased a ticket for Henry!\n",
            "Successfully purchased a ticket for Alexa!\n",
            "You can't buy more than 3 tickets\n",
            "3-------------------------\n",
            "Amount of tickets: 3\n",
            "Total price: 250 Taka\n",
            "4-------------------------\n",
            "Welcome to ABC Memorial Park\n",
            "5-------------------------\n",
            "Successfully purchased a ticket for Harry!\n",
            "Successfully purchased a ticket for Tomas!\n",
            "6-------------------------\n",
            "Amount of tickets: 2\n",
            "Total price: 200 Taka\n"
          ]
        }
      ]
    },
    {
      "cell_type": "markdown",
      "source": [
        "#**Task 3**"
      ],
      "metadata": {
        "id": "XE8ewsFaxqTi"
      }
    },
    {
      "cell_type": "code",
      "source": [
        "# Task 3\n",
        "class GreenPhone():\n",
        "  cA = 0\n",
        "  cM = 0\n",
        "  cU = 0\n",
        "\n",
        "  def __init__(self,model,version,camera):\n",
        "    self.model = model\n",
        "    self.version = version\n",
        "    self.camera = camera\n",
        "\n",
        "  def showSpecification(self):\n",
        "    print(f\"Phone Company: GreenPhone\")\n",
        "    print(f\"Model Name: {self.model}\")\n",
        "    print(f\"Android Version: {self.version}\")\n",
        "    print(f\"Number of Cameras: {self.camera}\")\n",
        "\n",
        "  def updatePhone(self):\n",
        "    if self.model[0] == \"A\":\n",
        "      if GreenPhone.cA < 2:\n",
        "        self.version += 1\n",
        "        GreenPhone.cA += 1\n",
        "        print(f\"Your phone Greenphone {self.model} is upgraded to Android Version: {self.version}.\")\n",
        "      else:\n",
        "        print(f\"Your phone Greenphone {self.model} is already up to date.\")\n",
        "\n",
        "    elif self.model[0] == \"M\":\n",
        "      if GreenPhone.cM < 3:\n",
        "        self.version += 1\n",
        "        GreenPhone.cM += 1\n",
        "        print(f\"Your phone Greenphone {self.model} is upgraded to Android Version: {self.version}.\")\n",
        "      else:\n",
        "        print(f\"Your phone Greenphone {self.model} is already up to date.\")\n",
        "\n",
        "    elif self.model[0] == \"U\":\n",
        "      if GreenPhone.cU < 5:\n",
        "        self.version += 1\n",
        "        GreenPhone.cU += 1\n",
        "        print(f\"Your phone Greenphone {self.model} is upgraded to Android Version: {self.version}.\")\n",
        "      else:\n",
        "        print(f\"Your phone Greenphone {self.model} is already up to date.\")\n",
        "\n",
        "\n",
        "# Driver Code\n",
        "print('1=======================')\n",
        "p1 = GreenPhone('A1', 12, 3)\n",
        "p2 = GreenPhone('M11', 12, 4)\n",
        "p3 = GreenPhone('U20', 12, 5)\n",
        "p1.showSpecification()\n",
        "print('2=======================')\n",
        "p2.showSpecification()\n",
        "print('3=======================')\n",
        "p1.updatePhone()\n",
        "print('4=======================')\n",
        "p1.updatePhone()\n",
        "p2.updatePhone()\n",
        "p3.updatePhone()\n",
        "print('5=======================')\n",
        "p1.updatePhone()\n",
        "p2.updatePhone()\n",
        "p3.updatePhone()\n",
        "print('6=======================')\n",
        "p2.updatePhone()\n",
        "p3.updatePhone()\n",
        "print('7=======================')\n",
        "p1.showSpecification()\n",
        "p3.showSpecification()\n"
      ],
      "metadata": {
        "colab": {
          "base_uri": "https://localhost:8080/"
        },
        "id": "j0gkOfxUfXAJ",
        "outputId": "78980462-bd13-49ef-fc3b-545115f105d4"
      },
      "execution_count": 13,
      "outputs": [
        {
          "output_type": "stream",
          "name": "stdout",
          "text": [
            "1=======================\n",
            "Phone Company: GreenPhone\n",
            "Model Name: A1\n",
            "Android Version: 12\n",
            "Number of Cameras: 3\n",
            "2=======================\n",
            "Phone Company: GreenPhone\n",
            "Model Name: M11\n",
            "Android Version: 12\n",
            "Number of Cameras: 4\n",
            "3=======================\n",
            "Your phone Greenphone A1 is upgraded to Android Version: 13.\n",
            "4=======================\n",
            "Your phone Greenphone A1 is upgraded to Android Version: 14.\n",
            "Your phone Greenphone M11 is upgraded to Android Version: 13.\n",
            "Your phone Greenphone U20 is upgraded to Android Version: 13.\n",
            "5=======================\n",
            "Your phone Greenphone A1 is already up to date.\n",
            "Your phone Greenphone M11 is upgraded to Android Version: 14.\n",
            "Your phone Greenphone U20 is upgraded to Android Version: 14.\n",
            "6=======================\n",
            "Your phone Greenphone M11 is upgraded to Android Version: 15.\n",
            "Your phone Greenphone U20 is upgraded to Android Version: 15.\n",
            "7=======================\n",
            "Phone Company: GreenPhone\n",
            "Model Name: A1\n",
            "Android Version: 14\n",
            "Number of Cameras: 3\n",
            "Phone Company: GreenPhone\n",
            "Model Name: U20\n",
            "Android Version: 15\n",
            "Number of Cameras: 5\n"
          ]
        }
      ]
    },
    {
      "cell_type": "markdown",
      "source": [
        "#**Task 4**"
      ],
      "metadata": {
        "id": "pZk9di15xuFh"
      }
    },
    {
      "cell_type": "code",
      "source": [
        "# Task 4\n",
        "\n",
        "class Student:\n",
        "    def __init__(self):\n",
        "        self.name = None\n",
        "        self.cgpa = 0.0\n",
        "s1 = Student()\n",
        "s2 = Student()\n",
        "s3 = None\n",
        "s1.name = \"Student One\"\n",
        "s1.cgpa = 2.3\n",
        "s3 = s1\n",
        "s2.name = \"Student Two\"\n",
        "s2.cgpa = s3.cgpa + 1\n",
        "s3.name = \"New Student\"\n",
        "print(s1.name)\n",
        "print(s2.name)\n",
        "print(s3.name)\n",
        "print(s1.cgpa)\n",
        "print(s2.cgpa)\n",
        "print(s3.cgpa)\n",
        "s3 = s2\n",
        "s1.name = \"old student\"\n",
        "s2.name = \"older student\"\n",
        "s3.name = \"oldest student\"\n",
        "s2.cgpa = s1.cgpa - s3.cgpa + 4.5\n",
        "print(s1.name)\n",
        "print(s2.name)\n",
        "print(s3.name)\n",
        "print(s1.cgpa)\n",
        "print(s2.cgpa)\n",
        "print(s3.cgpa)\n",
        "\n"
      ],
      "metadata": {
        "colab": {
          "base_uri": "https://localhost:8080/"
        },
        "id": "awpnGH8ke6eh",
        "outputId": "fc686aad-05de-423d-db6e-86bbc2f9c92b"
      },
      "execution_count": 9,
      "outputs": [
        {
          "output_type": "stream",
          "name": "stdout",
          "text": [
            "New Student\n",
            "Student Two\n",
            "New Student\n",
            "2.3\n",
            "3.3\n",
            "2.3\n",
            "old student\n",
            "oldest student\n",
            "oldest student\n",
            "2.3\n",
            "3.5\n",
            "3.5\n"
          ]
        }
      ]
    },
    {
      "cell_type": "markdown",
      "source": [
        "#**Task 5**"
      ],
      "metadata": {
        "id": "GOqB7-LixwOb"
      }
    },
    {
      "cell_type": "code",
      "source": [
        "# Task 5\n",
        "\n",
        "class Test3:\n",
        "    def __init__(self):\n",
        "        self.sum, self.y = 0, 0\n",
        "    def methodA(self):\n",
        "        x, y = 2, 3\n",
        "        msg = [0]\n",
        "        msg[0] = 3\n",
        "        y = self.y + msg[0]\n",
        "        self.methodB(msg, msg[0])\n",
        "        x = self.y + msg[0]\n",
        "        self.sum = x + y + msg[0]\n",
        "        print(x, y, self.sum)\n",
        "    def methodB(self, mg2, mg1):\n",
        "        x = 0\n",
        "        self.y = self.y + mg2[0]\n",
        "        x = x + 33 + mg1\n",
        "        self.sum = self.sum + x + self.y\n",
        "        mg2[0] = self.y + mg1\n",
        "        mg1 = mg1 + x + 2\n",
        "        print(x, self.y, self.sum)\n",
        "\n",
        "# Driver Code\n",
        "t3 = Test3()\n",
        "t3.methodA()\n",
        "t3.methodA()\n",
        "t3.methodA()\n",
        "t3.methodA()\n"
      ],
      "metadata": {
        "colab": {
          "base_uri": "https://localhost:8080/"
        },
        "id": "PcXBub40fK2m",
        "outputId": "64857aa5-30d0-4a2b-8156-ceed5e9c77d9"
      },
      "execution_count": 10,
      "outputs": [
        {
          "output_type": "stream",
          "name": "stdout",
          "text": [
            "36 3 39\n",
            "9 3 18\n",
            "36 6 60\n",
            "15 6 30\n",
            "36 9 75\n",
            "21 9 42\n",
            "36 12 90\n",
            "27 12 54\n"
          ]
        }
      ]
    }
  ]
}